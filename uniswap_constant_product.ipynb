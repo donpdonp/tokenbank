{
 "cells": [
  {
   "cell_type": "markdown",
   "metadata": {},
   "source": [
    "## Uniswap Constant Product Pool Price Investigation ##\n",
    "\n",
    "`x * y = k`"
   ]
  },
  {
   "cell_type": "markdown",
   "metadata": {},
   "source": [
    "k(x,y) is the constant value function for two token quantities x and y"
   ]
  },
  {
   "cell_type": "code",
   "execution_count": null,
   "metadata": {},
   "outputs": [],
   "source": [
    "mutable struct Pool\n",
    "    x\n",
    "    y\n",
    "end\n",
    "\n",
    "k(pool::Pool) = pool.x * pool.y\n",
    "price(pool::Pool) = pool.x/pool.y\n",
    "using Printf\n",
    "price_print(pool::Pool) = @printf(\"pool: DAI:%f ETH:%f price: %f\\n\", pool.x, pool.y, price(pool))"
   ]
  },
  {
   "cell_type": "markdown",
   "metadata": {},
   "source": [
    "swapA adds a quantity of token X to the pool and returns the quantity of token Y removed from the pool"
   ]
  },
  {
   "cell_type": "code",
   "execution_count": null,
   "metadata": {},
   "outputs": [],
   "source": [
    "function swapX(pool::Pool, x)\n",
    "    pool_value = k(pool)\n",
    "    new_pool_x = pool.x + x\n",
    "    new_pool_y = pool_value / new_pool_x\n",
    "    remainder = pool.y - new_pool_y\n",
    "    pool.x = new_pool_x\n",
    "    pool.y = new_pool_y\n",
    "    remainder\n",
    "end"
   ]
  },
  {
   "cell_type": "markdown",
   "metadata": {},
   "source": [
    "Initial pool of 200 X(DAI) and 2 Y(ETH)"
   ]
  },
  {
   "cell_type": "code",
   "execution_count": null,
   "metadata": {},
   "outputs": [],
   "source": [
    "pool = Pool(200.0, 2.0)"
   ]
  },
  {
   "cell_type": "markdown",
   "metadata": {},
   "source": [
    "add a quantity of X tokens to the pool and compute the resultant price of Y"
   ]
  },
  {
   "cell_type": "code",
   "execution_count": null,
   "metadata": {},
   "outputs": [],
   "source": [
    "using Printf\n",
    "function addX(pool::Pool, x)\n",
    "    price_print(pool)\n",
    "    remainder = swapX(pool, x)\n",
    "    price = x/remainder\n",
    "    @printf(\"after deposit %d dai, %f eth returned. new eth price: %f\\n\", x, remainder, price)\n",
    "    price\n",
    "end"
   ]
  },
  {
   "cell_type": "markdown",
   "metadata": {},
   "source": [
    "make 5 deposits of 10 DAI and graph the price of ETH"
   ]
  },
  {
   "cell_type": "code",
   "execution_count": null,
   "metadata": {},
   "outputs": [],
   "source": [
    "time = 1:5\n",
    "prices = map(x -> addX(pool, 10), time)\n",
    "\"\""
   ]
  },
  {
   "cell_type": "code",
   "execution_count": null,
   "metadata": {},
   "outputs": [],
   "source": [
    "using Plots\n",
    "plot(prices)"
   ]
  }
 ],
 "metadata": {
  "kernelspec": {
   "display_name": "Julia 1.5.2",
   "language": "julia",
   "name": "julia-1.5"
  },
  "language_info": {
   "file_extension": ".jl",
   "mimetype": "application/julia",
   "name": "julia",
   "version": "1.5.2"
  }
 },
 "nbformat": 4,
 "nbformat_minor": 4
}
