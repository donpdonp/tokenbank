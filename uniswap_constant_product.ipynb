{
 "cells": [
  {
   "cell_type": "markdown",
   "metadata": {},
   "source": [
    "## Uniswap Constant Product Pool Price Investigation ##\n",
    "\n",
    "`x * y = k`"
   ]
  },
  {
   "cell_type": "markdown",
   "metadata": {},
   "source": [
    "k(x,y) is the constant value function for two token quantities x and y"
   ]
  },
  {
   "cell_type": "code",
   "execution_count": 1,
   "metadata": {},
   "outputs": [
    {
     "data": {
      "text/plain": [
       "k (generic function with 1 method)"
      ]
     },
     "execution_count": 1,
     "metadata": {},
     "output_type": "execute_result"
    }
   ],
   "source": [
    "mutable struct Pool\n",
    "    x\n",
    "    y\n",
    "end\n",
    "\n",
    "k(pool::Pool) = pool.x * pool.y"
   ]
  },
  {
   "cell_type": "markdown",
   "metadata": {},
   "source": [
    "swapA adds a quantity of token X to the pool and returns the quantity of token Y removed from the pool"
   ]
  },
  {
   "cell_type": "code",
   "execution_count": 2,
   "metadata": {},
   "outputs": [
    {
     "data": {
      "text/plain": [
       "swapX (generic function with 1 method)"
      ]
     },
     "execution_count": 2,
     "metadata": {},
     "output_type": "execute_result"
    }
   ],
   "source": [
    "function swapX(pool::Pool, x)\n",
    "    pool_value = k(pool)\n",
    "    new_pool_x = pool.x + x\n",
    "    new_pool_y = pool_value / new_pool_x\n",
    "    remainder = pool.y - new_pool_y\n",
    "    pool.x = new_pool_x\n",
    "    pool.y = new_pool_y\n",
    "    remainder\n",
    "end"
   ]
  },
  {
   "cell_type": "markdown",
   "metadata": {},
   "source": [
    "Initial pool of 200 X(DAI) and 2 Y(ETH)"
   ]
  },
  {
   "cell_type": "code",
   "execution_count": 3,
   "metadata": {},
   "outputs": [
    {
     "data": {
      "text/plain": [
       "Pool(200.0, 2.0)"
      ]
     },
     "execution_count": 3,
     "metadata": {},
     "output_type": "execute_result"
    }
   ],
   "source": [
    "pool = Pool(200.0, 2.0)"
   ]
  },
  {
   "cell_type": "markdown",
   "metadata": {},
   "source": [
    "add a quantity of X tokens to the pool and compute the resultant price of Y"
   ]
  },
  {
   "cell_type": "code",
   "execution_count": 4,
   "metadata": {},
   "outputs": [
    {
     "data": {
      "text/plain": [
       "addX (generic function with 1 method)"
      ]
     },
     "execution_count": 4,
     "metadata": {},
     "output_type": "execute_result"
    }
   ],
   "source": [
    "using Printf\n",
    "function addX(pool::Pool, x)\n",
    "    remainder = swapX(pool, x)\n",
    "    price = x/remainder\n",
    "    @printf(\"pool: DAI:%f ETH:%f price: %f\\n\", pool.x, pool.y, price)\n",
    "    price\n",
    "end"
   ]
  },
  {
   "cell_type": "markdown",
   "metadata": {},
   "source": [
    "make 5 deposits of 10 DAI and graph the price of ETH"
   ]
  },
  {
   "cell_type": "code",
   "execution_count": 5,
   "metadata": {},
   "outputs": [
    {
     "name": "stdout",
     "output_type": "stream",
     "text": [
      "pool: DAI:210.000000 ETH:1.904762 price: 105.000000\n",
      "pool: DAI:220.000000 ETH:1.818182 price: 115.500000\n",
      "pool: DAI:230.000000 ETH:1.739130 price: 126.500000\n",
      "pool: DAI:240.000000 ETH:1.666667 price: 138.000000\n",
      "pool: DAI:250.000000 ETH:1.600000 price: 150.000000\n"
     ]
    },
    {
     "data": {
      "text/plain": [
       "\"\""
      ]
     },
     "execution_count": 5,
     "metadata": {},
     "output_type": "execute_result"
    }
   ],
   "source": [
    "time = 1:5\n",
    "prices = map(x -> addX(pool, 10), time)\n",
    "\"\""
   ]
  },
  {
   "cell_type": "code",
   "execution_count": 6,
   "metadata": {},
   "outputs": [
    {
     "data": {
      "image/svg+xml": [
       "<?xml version=\"1.0\" encoding=\"utf-8\"?>\n",
       "<svg xmlns=\"http://www.w3.org/2000/svg\" xmlns:xlink=\"http://www.w3.org/1999/xlink\" width=\"600\" height=\"400\" viewBox=\"0 0 2400 1600\">\n",
       "<defs>\n",
       "  <clipPath id=\"clip470\">\n",
       "    <rect x=\"0\" y=\"0\" width=\"2400\" height=\"1600\"/>\n",
       "  </clipPath>\n",
       "</defs>\n",
       "<path clip-path=\"url(#clip470)\" d=\"\n",
       "M0 1600 L2400 1600 L2400 0 L0 0  Z\n",
       "  \" fill=\"#ffffff\" fill-rule=\"evenodd\" fill-opacity=\"1\"/>\n",
       "<defs>\n",
       "  <clipPath id=\"clip471\">\n",
       "    <rect x=\"480\" y=\"0\" width=\"1681\" height=\"1600\"/>\n",
       "  </clipPath>\n",
       "</defs>\n",
       "<path clip-path=\"url(#clip470)\" d=\"\n",
       "M162.084 1486.45 L2352.76 1486.45 L2352.76 47.2441 L162.084 47.2441  Z\n",
       "  \" fill=\"#ffffff\" fill-rule=\"evenodd\" fill-opacity=\"1\"/>\n",
       "<defs>\n",
       "  <clipPath id=\"clip472\">\n",
       "    <rect x=\"162\" y=\"47\" width=\"2192\" height=\"1440\"/>\n",
       "  </clipPath>\n",
       "</defs>\n",
       "<polyline clip-path=\"url(#clip472)\" style=\"stroke:#000000; stroke-width:2; stroke-opacity:0.1; fill:none\" points=\"\n",
       "  224.084,1486.45 224.084,47.2441 \n",
       "  \"/>\n",
       "<polyline clip-path=\"url(#clip472)\" style=\"stroke:#000000; stroke-width:2; stroke-opacity:0.1; fill:none\" points=\"\n",
       "  740.752,1486.45 740.752,47.2441 \n",
       "  \"/>\n",
       "<polyline clip-path=\"url(#clip472)\" style=\"stroke:#000000; stroke-width:2; stroke-opacity:0.1; fill:none\" points=\"\n",
       "  1257.42,1486.45 1257.42,47.2441 \n",
       "  \"/>\n",
       "<polyline clip-path=\"url(#clip472)\" style=\"stroke:#000000; stroke-width:2; stroke-opacity:0.1; fill:none\" points=\"\n",
       "  1774.09,1486.45 1774.09,47.2441 \n",
       "  \"/>\n",
       "<polyline clip-path=\"url(#clip472)\" style=\"stroke:#000000; stroke-width:2; stroke-opacity:0.1; fill:none\" points=\"\n",
       "  2290.76,1486.45 2290.76,47.2441 \n",
       "  \"/>\n",
       "<polyline clip-path=\"url(#clip470)\" style=\"stroke:#000000; stroke-width:4; stroke-opacity:1; fill:none\" points=\"\n",
       "  162.084,1486.45 2352.76,1486.45 \n",
       "  \"/>\n",
       "<polyline clip-path=\"url(#clip470)\" style=\"stroke:#000000; stroke-width:4; stroke-opacity:1; fill:none\" points=\"\n",
       "  224.084,1486.45 224.084,1469.18 \n",
       "  \"/>\n",
       "<polyline clip-path=\"url(#clip470)\" style=\"stroke:#000000; stroke-width:4; stroke-opacity:1; fill:none\" points=\"\n",
       "  740.752,1486.45 740.752,1469.18 \n",
       "  \"/>\n",
       "<polyline clip-path=\"url(#clip470)\" style=\"stroke:#000000; stroke-width:4; stroke-opacity:1; fill:none\" points=\"\n",
       "  1257.42,1486.45 1257.42,1469.18 \n",
       "  \"/>\n",
       "<polyline clip-path=\"url(#clip470)\" style=\"stroke:#000000; stroke-width:4; stroke-opacity:1; fill:none\" points=\"\n",
       "  1774.09,1486.45 1774.09,1469.18 \n",
       "  \"/>\n",
       "<polyline clip-path=\"url(#clip470)\" style=\"stroke:#000000; stroke-width:4; stroke-opacity:1; fill:none\" points=\"\n",
       "  2290.76,1486.45 2290.76,1469.18 \n",
       "  \"/>\n",
       "<path clip-path=\"url(#clip470)\" d=\"M 0 0 M214.466 1543.18 L222.105 1543.18 L222.105 1516.82 L213.795 1518.49 L213.795 1514.23 L222.059 1512.56 L226.735 1512.56 L226.735 1543.18 L234.374 1543.18 L234.374 1547.12 L214.466 1547.12 L214.466 1543.18 Z\" fill=\"#000000\" fill-rule=\"evenodd\" fill-opacity=\"1\" /><path clip-path=\"url(#clip470)\" d=\"M 0 0 M735.405 1543.18 L751.724 1543.18 L751.724 1547.12 L729.78 1547.12 L729.78 1543.18 Q732.442 1540.43 737.025 1535.8 Q741.632 1531.15 742.812 1529.81 Q745.058 1527.28 745.937 1525.55 Q746.84 1523.79 746.84 1522.1 Q746.84 1519.34 744.896 1517.61 Q742.974 1515.87 739.873 1515.87 Q737.674 1515.87 735.22 1516.63 Q732.789 1517.4 730.012 1518.95 L730.012 1514.23 Q732.836 1513.09 735.289 1512.51 Q737.743 1511.93 739.78 1511.93 Q745.15 1511.93 748.345 1514.62 Q751.539 1517.31 751.539 1521.8 Q751.539 1523.93 750.729 1525.85 Q749.942 1527.74 747.836 1530.34 Q747.257 1531.01 744.155 1534.23 Q741.053 1537.42 735.405 1543.18 Z\" fill=\"#000000\" fill-rule=\"evenodd\" fill-opacity=\"1\" /><path clip-path=\"url(#clip470)\" d=\"M 0 0 M1261.67 1528.49 Q1265.02 1529.2 1266.9 1531.47 Q1268.8 1533.74 1268.8 1537.07 Q1268.8 1542.19 1265.28 1544.99 Q1261.76 1547.79 1255.28 1547.79 Q1253.1 1547.79 1250.79 1547.35 Q1248.5 1546.93 1246.04 1546.08 L1246.04 1541.56 Q1247.99 1542.7 1250.3 1543.28 Q1252.62 1543.86 1255.14 1543.86 Q1259.54 1543.86 1261.83 1542.12 Q1264.14 1540.38 1264.14 1537.07 Q1264.14 1534.02 1261.99 1532.31 Q1259.86 1530.57 1256.04 1530.57 L1252.02 1530.57 L1252.02 1526.73 L1256.23 1526.73 Q1259.68 1526.73 1261.51 1525.36 Q1263.33 1523.97 1263.33 1521.38 Q1263.33 1518.72 1261.44 1517.31 Q1259.56 1515.87 1256.04 1515.87 Q1254.12 1515.87 1251.92 1516.29 Q1249.72 1516.7 1247.08 1517.58 L1247.08 1513.42 Q1249.75 1512.68 1252.06 1512.31 Q1254.4 1511.93 1256.46 1511.93 Q1261.78 1511.93 1264.89 1514.37 Q1267.99 1516.77 1267.99 1520.89 Q1267.99 1523.76 1266.34 1525.75 Q1264.7 1527.72 1261.67 1528.49 Z\" fill=\"#000000\" fill-rule=\"evenodd\" fill-opacity=\"1\" /><path clip-path=\"url(#clip470)\" d=\"M 0 0 M1777.1 1516.63 L1765.29 1535.08 L1777.1 1535.08 L1777.1 1516.63 M1775.87 1512.56 L1781.75 1512.56 L1781.75 1535.08 L1786.68 1535.08 L1786.68 1538.97 L1781.75 1538.97 L1781.75 1547.12 L1777.1 1547.12 L1777.1 1538.97 L1761.5 1538.97 L1761.5 1534.46 L1775.87 1512.56 Z\" fill=\"#000000\" fill-rule=\"evenodd\" fill-opacity=\"1\" /><path clip-path=\"url(#clip470)\" d=\"M 0 0 M2281.03 1512.56 L2299.39 1512.56 L2299.39 1516.5 L2285.32 1516.5 L2285.32 1524.97 Q2286.33 1524.62 2287.35 1524.46 Q2288.37 1524.27 2289.39 1524.27 Q2295.18 1524.27 2298.56 1527.44 Q2301.94 1530.62 2301.94 1536.03 Q2301.94 1541.61 2298.46 1544.71 Q2294.99 1547.79 2288.67 1547.79 Q2286.5 1547.79 2284.23 1547.42 Q2281.98 1547.05 2279.58 1546.31 L2279.58 1541.61 Q2281.66 1542.74 2283.88 1543.3 Q2286.1 1543.86 2288.58 1543.86 Q2292.58 1543.86 2294.92 1541.75 Q2297.26 1539.64 2297.26 1536.03 Q2297.26 1532.42 2294.92 1530.31 Q2292.58 1528.21 2288.58 1528.21 Q2286.7 1528.21 2284.83 1528.62 Q2282.98 1529.04 2281.03 1529.92 L2281.03 1512.56 Z\" fill=\"#000000\" fill-rule=\"evenodd\" fill-opacity=\"1\" /><polyline clip-path=\"url(#clip472)\" style=\"stroke:#000000; stroke-width:2; stroke-opacity:0.1; fill:none\" points=\"\n",
       "  162.084,1294.86 2352.76,1294.86 \n",
       "  \"/>\n",
       "<polyline clip-path=\"url(#clip472)\" style=\"stroke:#000000; stroke-width:2; stroke-opacity:0.1; fill:none\" points=\"\n",
       "  162.084,993.136 2352.76,993.136 \n",
       "  \"/>\n",
       "<polyline clip-path=\"url(#clip472)\" style=\"stroke:#000000; stroke-width:2; stroke-opacity:0.1; fill:none\" points=\"\n",
       "  162.084,691.416 2352.76,691.416 \n",
       "  \"/>\n",
       "<polyline clip-path=\"url(#clip472)\" style=\"stroke:#000000; stroke-width:2; stroke-opacity:0.1; fill:none\" points=\"\n",
       "  162.084,389.696 2352.76,389.696 \n",
       "  \"/>\n",
       "<polyline clip-path=\"url(#clip472)\" style=\"stroke:#000000; stroke-width:2; stroke-opacity:0.1; fill:none\" points=\"\n",
       "  162.084,87.9763 2352.76,87.9763 \n",
       "  \"/>\n",
       "<polyline clip-path=\"url(#clip470)\" style=\"stroke:#000000; stroke-width:4; stroke-opacity:1; fill:none\" points=\"\n",
       "  162.084,1486.45 162.084,47.2441 \n",
       "  \"/>\n",
       "<polyline clip-path=\"url(#clip470)\" style=\"stroke:#000000; stroke-width:4; stroke-opacity:1; fill:none\" points=\"\n",
       "  162.084,1294.86 188.372,1294.86 \n",
       "  \"/>\n",
       "<polyline clip-path=\"url(#clip470)\" style=\"stroke:#000000; stroke-width:4; stroke-opacity:1; fill:none\" points=\"\n",
       "  162.084,993.136 188.372,993.136 \n",
       "  \"/>\n",
       "<polyline clip-path=\"url(#clip470)\" style=\"stroke:#000000; stroke-width:4; stroke-opacity:1; fill:none\" points=\"\n",
       "  162.084,691.416 188.372,691.416 \n",
       "  \"/>\n",
       "<polyline clip-path=\"url(#clip470)\" style=\"stroke:#000000; stroke-width:4; stroke-opacity:1; fill:none\" points=\"\n",
       "  162.084,389.696 188.372,389.696 \n",
       "  \"/>\n",
       "<polyline clip-path=\"url(#clip470)\" style=\"stroke:#000000; stroke-width:4; stroke-opacity:1; fill:none\" points=\"\n",
       "  162.084,87.9763 188.372,87.9763 \n",
       "  \"/>\n",
       "<path clip-path=\"url(#clip470)\" d=\"M 0 0 M53.3764 1308.2 L61.0152 1308.2 L61.0152 1281.83 L52.7051 1283.5 L52.7051 1279.24 L60.9689 1277.58 L65.6448 1277.58 L65.6448 1308.2 L73.2837 1308.2 L73.2837 1312.14 L53.3764 1312.14 L53.3764 1308.2 Z\" fill=\"#000000\" fill-rule=\"evenodd\" fill-opacity=\"1\" /><path clip-path=\"url(#clip470)\" d=\"M 0 0 M79.1633 1308.2 L86.8021 1308.2 L86.8021 1281.83 L78.492 1283.5 L78.492 1279.24 L86.7558 1277.58 L91.4317 1277.58 L91.4317 1308.2 L99.0706 1308.2 L99.0706 1312.14 L79.1633 1312.14 L79.1633 1308.2 Z\" fill=\"#000000\" fill-rule=\"evenodd\" fill-opacity=\"1\" /><path clip-path=\"url(#clip470)\" d=\"M 0 0 M114.14 1280.65 Q110.529 1280.65 108.7 1284.22 Q106.895 1287.76 106.895 1294.89 Q106.895 1302 108.7 1305.56 Q110.529 1309.1 114.14 1309.1 Q117.774 1309.1 119.58 1305.56 Q121.408 1302 121.408 1294.89 Q121.408 1287.76 119.58 1284.22 Q117.774 1280.65 114.14 1280.65 M114.14 1276.95 Q119.95 1276.95 123.006 1281.56 Q126.084 1286.14 126.084 1294.89 Q126.084 1303.62 123.006 1308.22 Q119.95 1312.81 114.14 1312.81 Q108.33 1312.81 105.251 1308.22 Q102.196 1303.62 102.196 1294.89 Q102.196 1286.14 105.251 1281.56 Q108.33 1276.95 114.14 1276.95 Z\" fill=\"#000000\" fill-rule=\"evenodd\" fill-opacity=\"1\" /><path clip-path=\"url(#clip470)\" d=\"M 0 0 M53.7467 1006.48 L61.3856 1006.48 L61.3856 980.115 L53.0754 981.782 L53.0754 977.523 L61.3393 975.856 L66.0152 975.856 L66.0152 1006.48 L73.654 1006.48 L73.654 1010.42 L53.7467 1010.42 L53.7467 1006.48 Z\" fill=\"#000000\" fill-rule=\"evenodd\" fill-opacity=\"1\" /><path clip-path=\"url(#clip470)\" d=\"M 0 0 M82.7512 1006.48 L99.0706 1006.48 L99.0706 1010.42 L77.1262 1010.42 L77.1262 1006.48 Q79.7883 1003.73 84.3716 999.097 Q88.978 994.444 90.1586 993.101 Q92.4039 990.578 93.2836 988.842 Q94.1863 987.083 94.1863 985.393 Q94.1863 982.638 92.2419 980.902 Q90.3206 979.166 87.2188 979.166 Q85.0197 979.166 82.566 979.93 Q80.1355 980.694 77.3577 982.245 L77.3577 977.523 Q80.1818 976.388 82.6355 975.81 Q85.0892 975.231 87.1262 975.231 Q92.4965 975.231 95.691 977.916 Q98.8854 980.601 98.8854 985.092 Q98.8854 987.222 98.0752 989.143 Q97.2882 991.041 95.1817 993.634 Q94.603 994.305 91.5012 997.522 Q88.3993 1000.72 82.7512 1006.48 Z\" fill=\"#000000\" fill-rule=\"evenodd\" fill-opacity=\"1\" /><path clip-path=\"url(#clip470)\" d=\"M 0 0 M114.14 978.935 Q110.529 978.935 108.7 982.499 Q106.895 986.041 106.895 993.171 Q106.895 1000.28 108.7 1003.84 Q110.529 1007.38 114.14 1007.38 Q117.774 1007.38 119.58 1003.84 Q121.408 1000.28 121.408 993.171 Q121.408 986.041 119.58 982.499 Q117.774 978.935 114.14 978.935 M114.14 975.231 Q119.95 975.231 123.006 979.837 Q126.084 984.421 126.084 993.171 Q126.084 1001.9 123.006 1006.5 Q119.95 1011.09 114.14 1011.09 Q108.33 1011.09 105.251 1006.5 Q102.196 1001.9 102.196 993.171 Q102.196 984.421 105.251 979.837 Q108.33 975.231 114.14 975.231 Z\" fill=\"#000000\" fill-rule=\"evenodd\" fill-opacity=\"1\" /><path clip-path=\"url(#clip470)\" d=\"M 0 0 M52.7977 704.761 L60.4365 704.761 L60.4365 678.395 L52.1264 680.062 L52.1264 675.803 L60.3902 674.136 L65.0661 674.136 L65.0661 704.761 L72.705 704.761 L72.705 708.696 L52.7977 708.696 L52.7977 704.761 Z\" fill=\"#000000\" fill-rule=\"evenodd\" fill-opacity=\"1\" /><path clip-path=\"url(#clip470)\" d=\"M 0 0 M91.941 690.062 Q95.2974 690.779 97.1724 693.048 Q99.0706 695.316 99.0706 698.65 Q99.0706 703.765 95.5521 706.566 Q92.0336 709.367 85.5521 709.367 Q83.3762 709.367 81.0614 708.927 Q78.7698 708.511 76.3161 707.654 L76.3161 703.14 Q78.2605 704.275 80.5753 704.853 Q82.8901 705.432 85.4132 705.432 Q89.8114 705.432 92.103 703.696 Q94.4178 701.96 94.4178 698.65 Q94.4178 695.594 92.2651 693.881 Q90.1354 692.145 86.316 692.145 L82.2883 692.145 L82.2883 688.303 L86.5012 688.303 Q89.9503 688.303 91.7789 686.937 Q93.6076 685.548 93.6076 682.955 Q93.6076 680.293 91.7095 678.881 Q89.8345 677.446 86.316 677.446 Q84.3947 677.446 82.1957 677.863 Q79.9966 678.28 77.3577 679.159 L77.3577 674.992 Q80.0197 674.252 82.3346 673.881 Q84.6725 673.511 86.7327 673.511 Q92.0567 673.511 95.1586 675.942 Q98.2604 678.349 98.2604 682.469 Q98.2604 685.34 96.6169 687.33 Q94.9734 689.298 91.941 690.062 Z\" fill=\"#000000\" fill-rule=\"evenodd\" fill-opacity=\"1\" /><path clip-path=\"url(#clip470)\" d=\"M 0 0 M114.14 677.215 Q110.529 677.215 108.7 680.779 Q106.895 684.321 106.895 691.451 Q106.895 698.557 108.7 702.122 Q110.529 705.664 114.14 705.664 Q117.774 705.664 119.58 702.122 Q121.408 698.557 121.408 691.451 Q121.408 684.321 119.58 680.779 Q117.774 677.215 114.14 677.215 M114.14 673.511 Q119.95 673.511 123.006 678.117 Q126.084 682.701 126.084 691.451 Q126.084 700.178 123.006 704.784 Q119.95 709.367 114.14 709.367 Q108.33 709.367 105.251 704.784 Q102.196 700.178 102.196 691.451 Q102.196 682.701 105.251 678.117 Q108.33 673.511 114.14 673.511 Z\" fill=\"#000000\" fill-rule=\"evenodd\" fill-opacity=\"1\" /><path clip-path=\"url(#clip470)\" d=\"M 0 0 M51.6634 403.041 L59.3023 403.041 L59.3023 376.675 L50.9921 378.342 L50.9921 374.083 L59.256 372.416 L63.9319 372.416 L63.9319 403.041 L71.5707 403.041 L71.5707 406.976 L51.6634 406.976 L51.6634 403.041 Z\" fill=\"#000000\" fill-rule=\"evenodd\" fill-opacity=\"1\" /><path clip-path=\"url(#clip470)\" d=\"M 0 0 M89.4873 376.49 L77.6818 394.939 L89.4873 394.939 L89.4873 376.49 M88.2604 372.416 L94.14 372.416 L94.14 394.939 L99.0706 394.939 L99.0706 398.828 L94.14 398.828 L94.14 406.976 L89.4873 406.976 L89.4873 398.828 L73.8855 398.828 L73.8855 394.314 L88.2604 372.416 Z\" fill=\"#000000\" fill-rule=\"evenodd\" fill-opacity=\"1\" /><path clip-path=\"url(#clip470)\" d=\"M 0 0 M114.14 375.495 Q110.529 375.495 108.7 379.06 Q106.895 382.601 106.895 389.731 Q106.895 396.837 108.7 400.402 Q110.529 403.944 114.14 403.944 Q117.774 403.944 119.58 400.402 Q121.408 396.837 121.408 389.731 Q121.408 382.601 119.58 379.06 Q117.774 375.495 114.14 375.495 M114.14 371.791 Q119.95 371.791 123.006 376.398 Q126.084 380.981 126.084 389.731 Q126.084 398.458 123.006 403.064 Q119.95 407.647 114.14 407.647 Q108.33 407.647 105.251 403.064 Q102.196 398.458 102.196 389.731 Q102.196 380.981 105.251 376.398 Q108.33 371.791 114.14 371.791 Z\" fill=\"#000000\" fill-rule=\"evenodd\" fill-opacity=\"1\" /><path clip-path=\"url(#clip470)\" d=\"M 0 0 M53.1449 101.321 L60.7837 101.321 L60.7837 74.9555 L52.4736 76.6222 L52.4736 72.3629 L60.7374 70.6963 L65.4133 70.6963 L65.4133 101.321 L73.0522 101.321 L73.0522 105.256 L53.1449 105.256 L53.1449 101.321 Z\" fill=\"#000000\" fill-rule=\"evenodd\" fill-opacity=\"1\" /><path clip-path=\"url(#clip470)\" d=\"M 0 0 M78.1679 70.6963 L96.5243 70.6963 L96.5243 74.6314 L82.4503 74.6314 L82.4503 83.1036 Q83.4688 82.7564 84.4873 82.5944 Q85.5058 82.4092 86.5243 82.4092 Q92.3113 82.4092 95.691 85.5805 Q99.0706 88.7517 99.0706 94.1684 Q99.0706 99.747 95.5984 102.849 Q92.1262 105.928 85.8068 105.928 Q83.6308 105.928 81.3623 105.557 Q79.117 105.187 76.7096 104.446 L76.7096 99.747 Q78.7929 100.881 81.0151 101.437 Q83.2373 101.992 85.7142 101.992 Q89.7188 101.992 92.0567 99.8859 Q94.3947 97.7795 94.3947 94.1684 Q94.3947 90.5573 92.0567 88.4508 Q89.7188 86.3443 85.7142 86.3443 Q83.8392 86.3443 81.9642 86.761 Q80.1123 87.1777 78.1679 88.0573 L78.1679 70.6963 Z\" fill=\"#000000\" fill-rule=\"evenodd\" fill-opacity=\"1\" /><path clip-path=\"url(#clip470)\" d=\"M 0 0 M114.14 73.775 Q110.529 73.775 108.7 77.3398 Q106.895 80.8814 106.895 88.011 Q106.895 95.1174 108.7 98.6822 Q110.529 102.224 114.14 102.224 Q117.774 102.224 119.58 98.6822 Q121.408 95.1174 121.408 88.011 Q121.408 80.8814 119.58 77.3398 Q117.774 73.775 114.14 73.775 M114.14 70.0713 Q119.95 70.0713 123.006 74.6777 Q126.084 79.261 126.084 88.011 Q126.084 96.7378 123.006 101.344 Q119.95 105.928 114.14 105.928 Q108.33 105.928 105.251 101.344 Q102.196 96.7378 102.196 88.011 Q102.196 79.261 105.251 74.6777 Q108.33 70.0713 114.14 70.0713 Z\" fill=\"#000000\" fill-rule=\"evenodd\" fill-opacity=\"1\" /><polyline clip-path=\"url(#clip472)\" style=\"stroke:#009af9; stroke-width:4; stroke-opacity:1; fill:none\" points=\"\n",
       "  224.084,1445.72 740.752,1128.91 1257.42,797.018 1774.09,450.04 2290.76,87.9763 \n",
       "  \"/>\n",
       "<path clip-path=\"url(#clip470)\" d=\"\n",
       "M1985.31 216.178 L2279.73 216.178 L2279.73 95.2176 L1985.31 95.2176  Z\n",
       "  \" fill=\"#ffffff\" fill-rule=\"evenodd\" fill-opacity=\"1\"/>\n",
       "<polyline clip-path=\"url(#clip470)\" style=\"stroke:#000000; stroke-width:4; stroke-opacity:1; fill:none\" points=\"\n",
       "  1985.31,216.178 2279.73,216.178 2279.73,95.2176 1985.31,95.2176 1985.31,216.178 \n",
       "  \"/>\n",
       "<polyline clip-path=\"url(#clip470)\" style=\"stroke:#009af9; stroke-width:4; stroke-opacity:1; fill:none\" points=\"\n",
       "  2009.65,155.698 2155.69,155.698 \n",
       "  \"/>\n",
       "<path clip-path=\"url(#clip470)\" d=\"M 0 0 M2193.88 175.385 Q2192.07 180.015 2190.36 181.427 Q2188.64 182.839 2185.77 182.839 L2182.37 182.839 L2182.37 179.274 L2184.87 179.274 Q2186.63 179.274 2187.6 178.44 Q2188.58 177.607 2189.76 174.505 L2190.52 172.561 L2180.03 147.052 L2184.55 147.052 L2192.65 167.329 L2200.75 147.052 L2205.27 147.052 L2193.88 175.385 Z\" fill=\"#000000\" fill-rule=\"evenodd\" fill-opacity=\"1\" /><path clip-path=\"url(#clip470)\" d=\"M 0 0 M2211.14 169.042 L2218.78 169.042 L2218.78 142.677 L2210.47 144.343 L2210.47 140.084 L2218.74 138.418 L2223.41 138.418 L2223.41 169.042 L2231.05 169.042 L2231.05 172.978 L2211.14 172.978 L2211.14 169.042 Z\" fill=\"#000000\" fill-rule=\"evenodd\" fill-opacity=\"1\" /></svg>\n"
      ]
     },
     "execution_count": 6,
     "metadata": {},
     "output_type": "execute_result"
    }
   ],
   "source": [
    "using Plots\n",
    "plot(prices)"
   ]
  }
 ],
 "metadata": {
  "kernelspec": {
   "display_name": "Julia 1.5.2",
   "language": "julia",
   "name": "julia-1.5"
  },
  "language_info": {
   "file_extension": ".jl",
   "mimetype": "application/julia",
   "name": "julia",
   "version": "1.5.2"
  }
 },
 "nbformat": 4,
 "nbformat_minor": 4
}
